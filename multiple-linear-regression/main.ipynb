{
 "cells": [
  {
   "cell_type": "code",
   "execution_count": 4,
   "id": "f082b337",
   "metadata": {},
   "outputs": [
    {
     "data": {
      "text/plain": [
       "(array([[ 30,   1],\n",
       "        [ 45,   2],\n",
       "        [ 60,   2],\n",
       "        [ 80,   3],\n",
       "        [100,   4],\n",
       "        [120,   4],\n",
       "        [150,   5]]),\n",
       " array([120000, 180000, 240000, 320000, 400000, 480000, 600000]))"
      ]
     },
     "execution_count": 4,
     "metadata": {},
     "output_type": "execute_result"
    }
   ],
   "source": [
    "import numpy as np\n",
    "\n",
    "# X : [surface, nombre de chambres]\n",
    "X = np.array([\n",
    "    [30, 1],\n",
    "    [45, 2],\n",
    "    [60, 2],\n",
    "    [80, 3],\n",
    "    [100, 4],\n",
    "    [120, 4],\n",
    "    [150, 5]\n",
    "])\n",
    "\n",
    "# y : prix en euros\n",
    "y = np.array([120000, 180000, 240000, 320000, 400000, 480000, 600000])\n",
    "\n",
    "X, y"
   ]
  },
  {
   "cell_type": "code",
   "execution_count": null,
   "id": "b59c9775",
   "metadata": {},
   "outputs": [],
   "source": []
  }
 ],
 "metadata": {
  "kernelspec": {
   "display_name": "Python 3",
   "language": "python",
   "name": "python3"
  },
  "language_info": {
   "codemirror_mode": {
    "name": "ipython",
    "version": 3
   },
   "file_extension": ".py",
   "mimetype": "text/x-python",
   "name": "python",
   "nbconvert_exporter": "python",
   "pygments_lexer": "ipython3",
   "version": "3.13.3"
  }
 },
 "nbformat": 4,
 "nbformat_minor": 5
}
